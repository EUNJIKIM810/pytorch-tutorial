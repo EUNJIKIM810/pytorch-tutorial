{
  "nbformat": 4,
  "nbformat_minor": 0,
  "metadata": {
    "colab": {
      "provenance": [],
      "gpuType": "T4",
      "authorship_tag": "ABX9TyNsNjiIifO8f46UEjbkjspv",
      "include_colab_link": true
    },
    "kernelspec": {
      "name": "python3",
      "display_name": "Python 3"
    },
    "language_info": {
      "name": "python"
    },
    "accelerator": "GPU"
  },
  "cells": [
    {
      "cell_type": "markdown",
      "metadata": {
        "id": "view-in-github",
        "colab_type": "text"
      },
      "source": [
        "<a href=\"https://colab.research.google.com/github/EUNJIKIM810/pytorch-tutorial/blob/main/pytprch_tutorial_%EC%8B%A0%EA%B2%BD%EB%A7%9D%EB%AA%A8%EB%8D%B8.ipynb\" target=\"_parent\"><img src=\"https://colab.research.google.com/assets/colab-badge.svg\" alt=\"Open In Colab\"/></a>"
      ]
    },
    {
      "cell_type": "markdown",
      "source": [
        "**신경망 모델 구성하기**"
      ],
      "metadata": {
        "id": "652AJalNHHNQ"
      }
    },
    {
      "cell_type": "code",
      "execution_count": 2,
      "metadata": {
        "id": "8zpJnbCpHCOQ"
      },
      "outputs": [],
      "source": [
        "import os\n",
        "import torch\n",
        "from torch import nn\n",
        "from torch.utils.data import DataLoader\n",
        "from torchvision import datasets, transforms"
      ]
    },
    {
      "cell_type": "markdown",
      "source": [
        "학습을 위한 장치 얻기"
      ],
      "metadata": {
        "id": "gY0XozUoHaMp"
      }
    },
    {
      "cell_type": "code",
      "source": [
        "device = (\n",
        "    \"cuda\"\n",
        "    if torch.cuda.is_available()\n",
        "    else \"mps\"\n",
        "    if torch.backends.mps.is_available()\n",
        "    else \"cpu\"\n",
        ")\n",
        "print(f\"Using {device} device\")"
      ],
      "metadata": {
        "colab": {
          "base_uri": "https://localhost:8080/"
        },
        "id": "esdtLVzPHala",
        "outputId": "ca9932ae-b188-45b5-e938-412c67dfd1f2"
      },
      "execution_count": 3,
      "outputs": [
        {
          "output_type": "stream",
          "name": "stdout",
          "text": [
            "Using cuda device\n"
          ]
        }
      ]
    },
    {
      "cell_type": "markdown",
      "source": [
        "클래스 정의하기\n",
        "\n",
        "신경망 모델을 nn.Module 의 하위클래스로 정의하고, __init__ 에서 신경망 계층들을 초기화합니다. nn.Module 을 상속받은 모든 클래스는 forward 메소드에 입력 데이터에 대한 연산들을 구현합니다."
      ],
      "metadata": {
        "id": "UC2_tLP2Hxso"
      }
    },
    {
      "cell_type": "code",
      "source": [
        "class NeuralNetwork(nn.Module): #이 클래스는  nn.Module을 상속받아 정의\n",
        "    def __init__(self):\n",
        "        super().__init__() #부모 클래스인 nn.Module의 초기화 메서드를 호출\n",
        "        self.flatten = nn.Flatten() #nn.Flatten(): 2D 이미지를 1D 벡터로 변환\n",
        "        self.linear_relu_stack = nn.Sequential(\n",
        "            nn.Linear(28*28, 512),\n",
        "            nn.ReLU(),\n",
        "            nn.Linear(512, 512),\n",
        "            nn.ReLU(),\n",
        "            nn.Linear(512, 10),\n",
        "        )\n",
        "\n",
        "    def forward(self, x):\n",
        "        x = self.flatten(x)\n",
        "        logits = self.linear_relu_stack(x)\n",
        "        return logits"
      ],
      "metadata": {
        "id": "DEixzU3ZH0Qm"
      },
      "execution_count": 4,
      "outputs": []
    },
    {
      "cell_type": "markdown",
      "source": [
        "NeuralNetwork 의 인스턴스(instance)를 생성하고 이를 device 로 이동한 뒤, 구조(structure)를 출력합니다."
      ],
      "metadata": {
        "id": "whAYwRvHIMxv"
      }
    },
    {
      "cell_type": "code",
      "source": [
        "model = NeuralNetwork().to(device)\n",
        "print(model)"
      ],
      "metadata": {
        "colab": {
          "base_uri": "https://localhost:8080/"
        },
        "id": "cG0nQVXvINeD",
        "outputId": "36a5f515-e274-4ad3-b67f-21375b7cf6fd"
      },
      "execution_count": 5,
      "outputs": [
        {
          "output_type": "stream",
          "name": "stdout",
          "text": [
            "NeuralNetwork(\n",
            "  (flatten): Flatten(start_dim=1, end_dim=-1)\n",
            "  (linear_relu_stack): Sequential(\n",
            "    (0): Linear(in_features=784, out_features=512, bias=True)\n",
            "    (1): ReLU()\n",
            "    (2): Linear(in_features=512, out_features=512, bias=True)\n",
            "    (3): ReLU()\n",
            "    (4): Linear(in_features=512, out_features=10, bias=True)\n",
            "  )\n",
            ")\n"
          ]
        }
      ]
    },
    {
      "cell_type": "code",
      "source": [
        "X = torch.rand(1, 28, 28, device=device) #크기 (1, 28, 28)의 랜덤 데이터를 생성\n",
        "logits = model(X) #입력 데이터 X를 신경망 모델에 통과시켜 **로짓(logits)**을 계산\n",
        "pred_probab = nn.Softmax(dim=1)(logits) #로짓을 정규화하여 확률 분포로 변환\n",
        "y_pred = pred_probab.argmax(1) #각 데이터 포인트에 대해 최대 확률을 가진 클래스의 인덱스를 반환\n",
        "print(f\"Predicted class: {y_pred}\")"
      ],
      "metadata": {
        "colab": {
          "base_uri": "https://localhost:8080/"
        },
        "id": "faTpJsRiIYIu",
        "outputId": "b29e2b21-340e-4f2c-f87c-fabf95d93f4e"
      },
      "execution_count": 6,
      "outputs": [
        {
          "output_type": "stream",
          "name": "stdout",
          "text": [
            "Predicted class: tensor([6], device='cuda:0')\n"
          ]
        }
      ]
    },
    {
      "cell_type": "markdown",
      "source": [
        "모델 계층(Layer)\n",
        "\n"
      ],
      "metadata": {
        "id": "Td0WbO0dIrwN"
      }
    },
    {
      "cell_type": "code",
      "source": [
        "input_image = torch.rand(3,28,28)\n",
        "print(input_image.size())"
      ],
      "metadata": {
        "colab": {
          "base_uri": "https://localhost:8080/"
        },
        "id": "0JllXOZrI_Mu",
        "outputId": "efef61ec-c34a-4d97-8ca2-0bda90b1dbd8"
      },
      "execution_count": 7,
      "outputs": [
        {
          "output_type": "stream",
          "name": "stdout",
          "text": [
            "torch.Size([3, 28, 28])\n"
          ]
        }
      ]
    },
    {
      "cell_type": "markdown",
      "source": [
        "nn.Flatten 계층을 초기화하여 각 28x28의 2D 이미지를 784 픽셀 값을 갖는 연속된 배열로 변환"
      ],
      "metadata": {
        "id": "jZ-ERxUhJEG_"
      }
    },
    {
      "cell_type": "code",
      "source": [
        "flatten = nn.Flatten() #차원이 1 이상인 모든 축을 하나로 병합하여 1D 벡터로 변환\n",
        "flat_image = flatten(input_image) #input_image는 평탄화 대상이 되는 입력 텐서\n",
        "print(flat_image.size()) #평탄화된 텐서의 크기를 출력"
      ],
      "metadata": {
        "colab": {
          "base_uri": "https://localhost:8080/"
        },
        "id": "KAUmMMlDJFBW",
        "outputId": "65d9d665-4cd3-4d96-e65d-47a276dbef7a"
      },
      "execution_count": 8,
      "outputs": [
        {
          "output_type": "stream",
          "name": "stdout",
          "text": [
            "torch.Size([3, 784])\n"
          ]
        }
      ]
    },
    {
      "cell_type": "markdown",
      "source": [
        "nn.Linear: 선형 계층 은 저장된 가중치(weight)와 편향(bias)을 사용하여 입력에 선형 변환(linear transformation)을 적용하는 모듈"
      ],
      "metadata": {
        "id": "HyIZIcrUJJrG"
      }
    },
    {
      "cell_type": "code",
      "source": [
        "layer1 = nn.Linear(in_features=28*28, out_features=20) #nn.Linear는 선형 계층(Fully Connected Layer)을 생성\n",
        "hidden1 = layer1(flat_image) #flat_image는 평탄화된 텐서. 선형 계층을 통과한 결과는 hidden1에 저장\n",
        "print(hidden1.size())"
      ],
      "metadata": {
        "colab": {
          "base_uri": "https://localhost:8080/"
        },
        "id": "O6L8sH50JMFO",
        "outputId": "857b1ffc-4b64-4c30-f85b-fb2a1aeb2fd2"
      },
      "execution_count": 9,
      "outputs": [
        {
          "output_type": "stream",
          "name": "stdout",
          "text": [
            "torch.Size([3, 20])\n"
          ]
        }
      ]
    },
    {
      "cell_type": "markdown",
      "source": [
        "nn.ReLU: 비선형 활성화(activation)는 모델의 입력과 출력 사이에 복잡한 관계(mapping)를 만듭니다. 비선형 활성화는 선형 변환 후에 적용되어 비선형성(nonlinearity) 을 도입하고, 신경망이 다양한 현상을 학습할 수 있도록 돕습니다."
      ],
      "metadata": {
        "id": "0ExUxWYFJxwf"
      }
    },
    {
      "cell_type": "code",
      "source": [
        "print(f\"Before ReLU: {hidden1}\\n\\n\")\n",
        "hidden1 = nn.ReLU()(hidden1) #ReLU 활성화 함수 적용\n",
        "#음수 값 → 0.\n",
        "#양수 값 → 그대로 유지.\n",
        "\n",
        "print(f\"After ReLU: {hidden1}\")"
      ],
      "metadata": {
        "colab": {
          "base_uri": "https://localhost:8080/"
        },
        "id": "Nefl6-vfJ04Y",
        "outputId": "e6d5d93a-8383-4a8d-ec04-df4a8cc7695d"
      },
      "execution_count": 11,
      "outputs": [
        {
          "output_type": "stream",
          "name": "stdout",
          "text": [
            "Before ReLU: tensor([[0.0179, 0.2933, 0.0000, 0.2923, 0.0000, 0.2671, 0.0000, 0.1958, 0.2001,\n",
            "         0.0000, 0.0000, 0.2123, 0.5755, 0.2038, 0.0000, 0.0000, 0.0000, 0.1443,\n",
            "         0.0000, 0.0000],\n",
            "        [0.2952, 0.3469, 0.3725, 0.0945, 0.0000, 0.2254, 0.0000, 0.0803, 0.0952,\n",
            "         0.0000, 0.0000, 0.4485, 0.2969, 0.4050, 0.0000, 0.1533, 0.0000, 0.0829,\n",
            "         0.0000, 0.0000],\n",
            "        [0.0000, 0.0206, 0.0000, 0.1591, 0.0000, 0.5727, 0.0000, 0.3010, 0.0000,\n",
            "         0.0000, 0.0000, 0.4600, 0.5027, 0.2293, 0.0000, 0.0035, 0.0000, 0.0938,\n",
            "         0.0000, 0.0000]], grad_fn=<ReluBackward0>)\n",
            "\n",
            "\n",
            "After ReLU: tensor([[0.0179, 0.2933, 0.0000, 0.2923, 0.0000, 0.2671, 0.0000, 0.1958, 0.2001,\n",
            "         0.0000, 0.0000, 0.2123, 0.5755, 0.2038, 0.0000, 0.0000, 0.0000, 0.1443,\n",
            "         0.0000, 0.0000],\n",
            "        [0.2952, 0.3469, 0.3725, 0.0945, 0.0000, 0.2254, 0.0000, 0.0803, 0.0952,\n",
            "         0.0000, 0.0000, 0.4485, 0.2969, 0.4050, 0.0000, 0.1533, 0.0000, 0.0829,\n",
            "         0.0000, 0.0000],\n",
            "        [0.0000, 0.0206, 0.0000, 0.1591, 0.0000, 0.5727, 0.0000, 0.3010, 0.0000,\n",
            "         0.0000, 0.0000, 0.4600, 0.5027, 0.2293, 0.0000, 0.0035, 0.0000, 0.0938,\n",
            "         0.0000, 0.0000]], grad_fn=<ReluBackward0>)\n"
          ]
        }
      ]
    },
    {
      "cell_type": "markdown",
      "source": [
        "nn.Sequential 은 순서를 갖는 모듈의 컨테이너입니다. 데이터는 정의된 것과 같은 순서로 모든 모듈들을 통해 전달됩니다. 순차 컨테이너(sequential container)를 사용하여 아래의 seq_modules 와 같은 신경망을 빠르게 만들 수 있습니다."
      ],
      "metadata": {
        "id": "DGDDZvghKGML"
      }
    },
    {
      "cell_type": "code",
      "source": [
        "seq_modules = nn.Sequential(\n",
        "    flatten, #이미지를 1D 벡터로 변환. -> 크기 변환: [batch_size, 1, 28, 28] → [batch_size, 28*28].\n",
        "    layer1, #첫 번째 선형 계층.\n",
        "    nn.ReLU(), #활성화 함수로 비선형성 추가.\n",
        "    nn.Linear(20, 10) #두 번째 선형 계층으로 최종 출력 계산.\n",
        ")\n",
        "input_image = torch.rand(3,28,28) #크기 (3, 28, 28)의 랜덤 데이터를 생성\n",
        "logits = seq_modules(input_image)"
      ],
      "metadata": {
        "id": "dkw07iSlKHMf"
      },
      "execution_count": 13,
      "outputs": []
    },
    {
      "cell_type": "markdown",
      "source": [
        "nn.Softmax"
      ],
      "metadata": {
        "id": "XVmiO4YjKs4e"
      }
    },
    {
      "cell_type": "code",
      "source": [
        "softmax = nn.Softmax(dim=1)\n",
        "pred_probab = softmax(logits)"
      ],
      "metadata": {
        "id": "bEfSlZIyKuPn"
      },
      "execution_count": 14,
      "outputs": []
    },
    {
      "cell_type": "markdown",
      "source": [
        "**모델 매개변수**\n",
        "\n",
        "신경망 내부의 많은 계층들은 매개변수화(parameterize) 됩니다. 즉, 학습 중에 최적화되는 가중치와 편향과 연관지어집니다. nn.Module 을 상속하면 모델 객체 내부의 모든 필드들이 자동으로 추적(track)되며, 모델의 parameters() 및 named_parameters() 메소드로 모든 매개변수에 접근할 수 있게 됩니다.\n",
        "\n",
        "이 예제에서는 각 매개변수들을 순회하며(iterate), 매개변수의 크기와 값을 출력합니다."
      ],
      "metadata": {
        "id": "Bok8gSkFKwVN"
      }
    },
    {
      "cell_type": "code",
      "source": [
        "print(f\"Model structure: {model}\\n\\n\")\n",
        "\n",
        "for name, param in model.named_parameters():\n",
        "    print(f\"Layer: {name} | Size: {param.size()} | Values : {param[:2]} \\n\")"
      ],
      "metadata": {
        "colab": {
          "base_uri": "https://localhost:8080/"
        },
        "id": "p-yMBO7HKyWG",
        "outputId": "8dae288c-7644-4e58-811d-ba52cac8945f"
      },
      "execution_count": 15,
      "outputs": [
        {
          "output_type": "stream",
          "name": "stdout",
          "text": [
            "Model structure: NeuralNetwork(\n",
            "  (flatten): Flatten(start_dim=1, end_dim=-1)\n",
            "  (linear_relu_stack): Sequential(\n",
            "    (0): Linear(in_features=784, out_features=512, bias=True)\n",
            "    (1): ReLU()\n",
            "    (2): Linear(in_features=512, out_features=512, bias=True)\n",
            "    (3): ReLU()\n",
            "    (4): Linear(in_features=512, out_features=10, bias=True)\n",
            "  )\n",
            ")\n",
            "\n",
            "\n",
            "Layer: linear_relu_stack.0.weight | Size: torch.Size([512, 784]) | Values : tensor([[ 0.0353,  0.0342,  0.0240,  ..., -0.0139, -0.0171, -0.0151],\n",
            "        [-0.0019, -0.0263, -0.0137,  ..., -0.0265,  0.0273, -0.0255]],\n",
            "       device='cuda:0', grad_fn=<SliceBackward0>) \n",
            "\n",
            "Layer: linear_relu_stack.0.bias | Size: torch.Size([512]) | Values : tensor([-0.0333,  0.0009], device='cuda:0', grad_fn=<SliceBackward0>) \n",
            "\n",
            "Layer: linear_relu_stack.2.weight | Size: torch.Size([512, 512]) | Values : tensor([[-0.0313,  0.0327, -0.0441,  ..., -0.0078,  0.0359, -0.0370],\n",
            "        [-0.0129,  0.0141,  0.0431,  ..., -0.0130,  0.0387,  0.0379]],\n",
            "       device='cuda:0', grad_fn=<SliceBackward0>) \n",
            "\n",
            "Layer: linear_relu_stack.2.bias | Size: torch.Size([512]) | Values : tensor([-0.0238,  0.0084], device='cuda:0', grad_fn=<SliceBackward0>) \n",
            "\n",
            "Layer: linear_relu_stack.4.weight | Size: torch.Size([10, 512]) | Values : tensor([[ 0.0119,  0.0044,  0.0189,  ..., -0.0349, -0.0092,  0.0382],\n",
            "        [-0.0340, -0.0039, -0.0149,  ...,  0.0030,  0.0381, -0.0235]],\n",
            "       device='cuda:0', grad_fn=<SliceBackward0>) \n",
            "\n",
            "Layer: linear_relu_stack.4.bias | Size: torch.Size([10]) | Values : tensor([-0.0244, -0.0285], device='cuda:0', grad_fn=<SliceBackward0>) \n",
            "\n"
          ]
        }
      ]
    }
  ]
}