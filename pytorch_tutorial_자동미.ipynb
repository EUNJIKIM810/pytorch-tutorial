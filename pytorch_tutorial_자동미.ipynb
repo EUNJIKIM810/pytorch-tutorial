{
  "nbformat": 4,
  "nbformat_minor": 0,
  "metadata": {
    "colab": {
      "provenance": [],
      "authorship_tag": "ABX9TyPtp61KsqSpqJOBGW/G2+5E",
      "include_colab_link": true
    },
    "kernelspec": {
      "name": "python3",
      "display_name": "Python 3"
    },
    "language_info": {
      "name": "python"
    }
  },
  "cells": [
    {
      "cell_type": "markdown",
      "metadata": {
        "id": "view-in-github",
        "colab_type": "text"
      },
      "source": [
        "<a href=\"https://colab.research.google.com/github/EUNJIKIM810/pytorch-tutorial/blob/main/pytorch_tutorial_%EC%9E%90%EB%8F%99%EB%AF%B8.ipynb\" target=\"_parent\"><img src=\"https://colab.research.google.com/assets/colab-badge.svg\" alt=\"Open In Colab\"/></a>"
      ]
    },
    {
      "cell_type": "markdown",
      "source": [
        "**torch.autograd를 사용한 자동 미분**\n",
        "\n",
        "\n",
        "신경망을 학습할 때 가장 자주 사용되는 알고리즘은 역전파입니다. 이 알고리즘에서, 매개변수(모델 가중치)는 주어진 매개변수에 대한 손실 함수의 변화도(gradient)에 따라 조정됩니다.\n",
        "\n",
        "이러한 변화도를 계산하기 위해 PyTorch에는 torch.autograd라고 불리는 자동 미분 엔진이 내장되어 있습니다. 이는 모든 계산 그래프에 대한 변화도의 자동 계산을 지원합니다.\n",
        "\n",
        "입력 x, 매개변수 w와 b , 그리고 일부 손실 함수가 있는 가장 간단한 단일 계층 신경망을 가정하겠습니다. PyTorch에서는 다음과 같이 정의할 수 있습니다:"
      ],
      "metadata": {
        "id": "qQFRucNbLL-f"
      }
    },
    {
      "cell_type": "code",
      "execution_count": 1,
      "metadata": {
        "id": "y0vFPDWCLGnL"
      },
      "outputs": [],
      "source": [
        "import torch\n",
        "\n",
        "x = torch.ones(5)  # input tensor\n",
        "y = torch.zeros(3)  # expected output\n",
        "w = torch.randn(5, 3, requires_grad=True)\n",
        "b = torch.randn(3, requires_grad=True)\n",
        "z = torch.matmul(x, w)+b\n",
        "loss = torch.nn.functional.binary_cross_entropy_with_logits(z, y)"
      ]
    },
    {
      "cell_type": "code",
      "source": [
        "print(f\"Gradient function for z = {z.grad_fn}\")\n",
        "print(f\"Gradient function for loss = {loss.grad_fn}\")"
      ],
      "metadata": {
        "colab": {
          "base_uri": "https://localhost:8080/"
        },
        "id": "RsQsJUDVLY-l",
        "outputId": "67745405-d6ea-48d6-cef8-e176f4b7c51f"
      },
      "execution_count": 2,
      "outputs": [
        {
          "output_type": "stream",
          "name": "stdout",
          "text": [
            "Gradient function for z = <AddBackward0 object at 0x7c6eb95b5ae0>\n",
            "Gradient function for loss = <BinaryCrossEntropyWithLogitsBackward0 object at 0x7c6eba122440>\n"
          ]
        }
      ]
    },
    {
      "cell_type": "markdown",
      "source": [
        "변화도(Gradient) 계산하기\n",
        "\n",
        "신경망에서 매개변수의 가중치를 최적화하려면 매개변수에 대한 손실함수의 도함수(derivative)를 계산해야 합니다. 즉, x와 y의 일부 고정값에서\n",
        "∂\n",
        "l\n",
        "o\n",
        "s\n",
        "s\n",
        "∂\n",
        "w\n",
        "∂w\n",
        "∂loss\n",
        "​\n",
        " 와\n",
        "∂\n",
        "l\n",
        "o\n",
        "s\n",
        "s\n",
        "∂\n",
        "b\n",
        "∂b\n",
        "∂loss\n",
        "​\n",
        "  가 필요합니다. 이러한 도함수를 계산하기 위해, loss.backward() 를 호출한 다음 w.grad와 b.grad에서 값을 가져옵니다:"
      ],
      "metadata": {
        "id": "UCgEiKVBL3GZ"
      }
    },
    {
      "cell_type": "code",
      "source": [
        "loss.backward()\n",
        "print(w.grad)\n",
        "print(b.grad)"
      ],
      "metadata": {
        "colab": {
          "base_uri": "https://localhost:8080/"
        },
        "id": "dmenGEPeL7-7",
        "outputId": "b674466b-e61b-42ce-ca7d-28c5181a9be0"
      },
      "execution_count": 3,
      "outputs": [
        {
          "output_type": "stream",
          "name": "stdout",
          "text": [
            "tensor([[0.2758, 0.1156, 0.2678],\n",
            "        [0.2758, 0.1156, 0.2678],\n",
            "        [0.2758, 0.1156, 0.2678],\n",
            "        [0.2758, 0.1156, 0.2678],\n",
            "        [0.2758, 0.1156, 0.2678]])\n",
            "tensor([0.2758, 0.1156, 0.2678])\n"
          ]
        }
      ]
    },
    {
      "cell_type": "markdown",
      "source": [
        "변화도 추적 멈추기\n",
        "\n",
        "기본적으로, requires_grad=True인 모든 텐서들은 연산 기록을 추적하고 변화도 계산을 지원합니다. 그러나 모델을 학습한 뒤 입력 데이터를 단순히 적용하기만 하는 경우와 같이 순전파 연산만 필요한 경우에는, 이러한 추적이나 지원이 필요 없을 수 있습니다. 연산 코드를 torch.no_grad() 블록으로 둘러싸서 연산 추적을 멈출 수 있습니다:"
      ],
      "metadata": {
        "id": "cKx5wetmMEpL"
      }
    },
    {
      "cell_type": "code",
      "source": [
        "z = torch.matmul(x, w)+b\n",
        "print(z.requires_grad)\n",
        "\n",
        "with torch.no_grad():\n",
        "    z = torch.matmul(x, w)+b\n",
        "print(z.requires_grad)"
      ],
      "metadata": {
        "colab": {
          "base_uri": "https://localhost:8080/"
        },
        "id": "RoVyWz_tMHkv",
        "outputId": "2fb95675-d18d-4bc7-9e9c-7bdadfe23840"
      },
      "execution_count": 4,
      "outputs": [
        {
          "output_type": "stream",
          "name": "stdout",
          "text": [
            "True\n",
            "False\n"
          ]
        }
      ]
    },
    {
      "cell_type": "code",
      "source": [
        "z = torch.matmul(x, w)+b\n",
        "z_det = z.detach() #텐서에 detach() 메소드를 사용\n",
        "print(z_det.requires_grad)"
      ],
      "metadata": {
        "colab": {
          "base_uri": "https://localhost:8080/"
        },
        "id": "4zi9XbZSMOd0",
        "outputId": "058c346b-e042-4976-aee1-2390ab79ca8e"
      },
      "execution_count": 5,
      "outputs": [
        {
          "output_type": "stream",
          "name": "stdout",
          "text": [
            "False\n"
          ]
        }
      ]
    },
    {
      "cell_type": "markdown",
      "source": [
        "변화도 추적을 멈춰야 하는 이유들은 다음과 같습니다:\n",
        "신경망의 일부 매개변수를 고정된 매개변수(frozen parameter)로 표시합니다.\n",
        "\n",
        "변화도를 추적하지 않는 텐서의 연산이 더 효율적이기 때문에, 순전파 단계만 수행할 때 연산 속도가 향상됩니다."
      ],
      "metadata": {
        "id": "qSDlBJwFMSrb"
      }
    },
    {
      "cell_type": "markdown",
      "source": [
        "텐서 변화도와 야코비안 곱 (Jacobian Product)\n",
        "\n",
        "야코비안 행렬 자체를 계산하는 대신, PyTorch는 주어진 입력 벡터\n",
        "v\n",
        "=\n",
        "(\n",
        "v\n",
        "1\n",
        "…\n",
        "v\n",
        "m\n",
        ")\n",
        "v=(v\n",
        "1\n",
        "​\n",
        " …v\n",
        "m\n",
        "​\n",
        " )에 대한 야코비안 곱(Jacobian Product)\n",
        "v\n",
        "T\n",
        "⋅\n",
        "J\n",
        "v\n",
        "T\n",
        " ⋅J을 계산합니다. 이 과정은\n",
        "v\n",
        "v를 인자로 backward를 호출하면 이뤄집니다.\n",
        "v\n",
        "v의 크기는 곱(product)을 계산하려고 하는 원래 텐서의 크기와 같아야 합니다."
      ],
      "metadata": {
        "id": "8Ky88Z-fMXWU"
      }
    },
    {
      "cell_type": "code",
      "source": [
        "inp = torch.eye(4, 5, requires_grad=True)\n",
        "out = (inp+1).pow(2).t()\n",
        "out.backward(torch.ones_like(out), retain_graph=True)\n",
        "print(f\"First call\\n{inp.grad}\")\n",
        "out.backward(torch.ones_like(out), retain_graph=True)\n",
        "print(f\"\\nSecond call\\n{inp.grad}\")\n",
        "inp.grad.zero_()\n",
        "out.backward(torch.ones_like(out), retain_graph=True)\n",
        "print(f\"\\nCall after zeroing gradients\\n{inp.grad}\")"
      ],
      "metadata": {
        "colab": {
          "base_uri": "https://localhost:8080/"
        },
        "id": "aNgptJZlMZoh",
        "outputId": "76b65d5c-0cfe-48e2-a42d-9234c81050cf"
      },
      "execution_count": 6,
      "outputs": [
        {
          "output_type": "stream",
          "name": "stdout",
          "text": [
            "First call\n",
            "tensor([[4., 2., 2., 2., 2.],\n",
            "        [2., 4., 2., 2., 2.],\n",
            "        [2., 2., 4., 2., 2.],\n",
            "        [2., 2., 2., 4., 2.]])\n",
            "\n",
            "Second call\n",
            "tensor([[8., 4., 4., 4., 4.],\n",
            "        [4., 8., 4., 4., 4.],\n",
            "        [4., 4., 8., 4., 4.],\n",
            "        [4., 4., 4., 8., 4.]])\n",
            "\n",
            "Call after zeroing gradients\n",
            "tensor([[4., 2., 2., 2., 2.],\n",
            "        [2., 4., 2., 2., 2.],\n",
            "        [2., 2., 4., 2., 2.],\n",
            "        [2., 2., 2., 4., 2.]])\n"
          ]
        }
      ]
    }
  ]
}